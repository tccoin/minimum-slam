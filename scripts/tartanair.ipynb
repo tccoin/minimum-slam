{
 "cells": [
  {
   "cell_type": "code",
   "execution_count": 1,
   "metadata": {},
   "outputs": [
    {
     "name": "stdout",
     "output_type": "stream",
     "text": [
      "Line numbers added to '/home/link/ws/data/tartanair/scenes/abandonedfactory/Easy/P001/pose_left.txt' and saved as '/home/link/ws/data/output/abandonedfactory_easy_p001_generic_gt.txt'.\n"
     ]
    }
   ],
   "source": [
    "def add_line_numbers(input_file, output_file):\n",
    "    with open(input_file, 'r') as file:\n",
    "        lines = file.readlines()\n",
    "\n",
    "    numbered_lines = [f\"{i+1} {line}\" for i, line in enumerate(lines)]\n",
    "\n",
    "    with open(output_file, 'w') as file:\n",
    "        file.writelines(numbered_lines)\n",
    "\n",
    "\n",
    "# Usage example\n",
    "input_file = '/home/link/ws/data/tartanair/scenes/abandonedfactory/Easy/P006/pose_left.txt'\n",
    "output_file = '/home/link/ws/data/output/abandonedfactory_easy_p006_gt.txt'\n",
    "\n",
    "add_line_numbers(input_file, output_file)\n",
    "print(f\"Line numbers added to '{input_file}' and saved as '{output_file}'.\")"
   ]
  },
  {
   "cell_type": "code",
   "execution_count": null,
   "metadata": {},
   "outputs": [],
   "source": []
  }
 ],
 "metadata": {
  "kernelspec": {
   "display_name": "Python 3",
   "language": "python",
   "name": "python3"
  },
  "language_info": {
   "codemirror_mode": {
    "name": "ipython",
    "version": 3
   },
   "file_extension": ".py",
   "mimetype": "text/x-python",
   "name": "python",
   "nbconvert_exporter": "python",
   "pygments_lexer": "ipython3",
   "version": "3.8.10"
  },
  "orig_nbformat": 4
 },
 "nbformat": 4,
 "nbformat_minor": 2
}

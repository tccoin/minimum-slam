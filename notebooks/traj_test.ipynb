{
 "cells": [
  {
   "cell_type": "code",
   "execution_count": 2,
   "metadata": {},
   "outputs": [
    {
     "ename": "FileNotFoundError",
     "evalue": "Parameter file not found",
     "output_type": "error",
     "traceback": [
      "\u001b[0;31m---------------------------------------------------------------------------\u001b[0m",
      "\u001b[0;31mFileNotFoundError\u001b[0m                         Traceback (most recent call last)",
      "File \u001b[0;32m~/ws/minslam/params.py:14\u001b[0m, in \u001b[0;36mParams.load\u001b[0;34m(self, path)\u001b[0m\n\u001b[1;32m     13\u001b[0m \u001b[39mtry\u001b[39;00m:\n\u001b[0;32m---> 14\u001b[0m     \u001b[39mwith\u001b[39;00m \u001b[39mopen\u001b[39;49m(os\u001b[39m.\u001b[39;49mpath\u001b[39m.\u001b[39;49mexpanduser(path), \u001b[39m'\u001b[39;49m\u001b[39mr\u001b[39;49m\u001b[39m'\u001b[39;49m) \u001b[39mas\u001b[39;00m param_file:\n\u001b[1;32m     15\u001b[0m         \u001b[39mself\u001b[39m\u001b[39m.\u001b[39mparams \u001b[39m=\u001b[39m yaml\u001b[39m.\u001b[39msafe_load(param_file)\n",
      "\u001b[0;31mFileNotFoundError\u001b[0m: [Errno 2] No such file or directory: './params/tartanair.yaml'",
      "\nDuring handling of the above exception, another exception occurred:\n",
      "\u001b[0;31mFileNotFoundError\u001b[0m                         Traceback (most recent call last)",
      "Cell \u001b[0;32mIn[2], line 34\u001b[0m\n\u001b[1;32m     31\u001b[0m     \u001b[39mreturn\u001b[39;00m frontend\u001b[39m.\u001b[39mcurr_frame\n\u001b[1;32m     33\u001b[0m \u001b[39m# load the dataset\u001b[39;00m\n\u001b[0;32m---> 34\u001b[0m params \u001b[39m=\u001b[39m Params(\u001b[39m'\u001b[39;49m\u001b[39m./params/tartanair.yaml\u001b[39;49m\u001b[39m'\u001b[39;49m)\n\u001b[1;32m     35\u001b[0m frontend \u001b[39m=\u001b[39m Frontend(params)\n\u001b[1;32m     36\u001b[0m backend \u001b[39m=\u001b[39m Backend(params)\n",
      "File \u001b[0;32m~/ws/minslam/params.py:8\u001b[0m, in \u001b[0;36mParams.__init__\u001b[0;34m(self, params)\u001b[0m\n\u001b[1;32m      6\u001b[0m \u001b[39mdef\u001b[39;00m \u001b[39m__init__\u001b[39m(\u001b[39mself\u001b[39m, params):\n\u001b[1;32m      7\u001b[0m     \u001b[39mif\u001b[39;00m \u001b[39mtype\u001b[39m(params) \u001b[39mis\u001b[39;00m \u001b[39mstr\u001b[39m:\n\u001b[0;32m----> 8\u001b[0m         \u001b[39mself\u001b[39;49m\u001b[39m.\u001b[39;49mload(params)\n\u001b[1;32m      9\u001b[0m     \u001b[39melse\u001b[39;00m:\n\u001b[1;32m     10\u001b[0m         \u001b[39mself\u001b[39m\u001b[39m.\u001b[39mparams \u001b[39m=\u001b[39m params\n",
      "File \u001b[0;32m~/ws/minslam/params.py:17\u001b[0m, in \u001b[0;36mParams.load\u001b[0;34m(self, path)\u001b[0m\n\u001b[1;32m     15\u001b[0m         \u001b[39mself\u001b[39m\u001b[39m.\u001b[39mparams \u001b[39m=\u001b[39m yaml\u001b[39m.\u001b[39msafe_load(param_file)\n\u001b[1;32m     16\u001b[0m \u001b[39mexcept\u001b[39;00m:\n\u001b[0;32m---> 17\u001b[0m     \u001b[39mraise\u001b[39;00m \u001b[39mFileNotFoundError\u001b[39;00m(\u001b[39m'\u001b[39m\u001b[39mParameter file not found\u001b[39m\u001b[39m'\u001b[39m)\n",
      "\u001b[0;31mFileNotFoundError\u001b[0m: Parameter file not found"
     ]
    },
    {
     "data": {
      "text/plain": [
       "<Figure size 640x480 with 0 Axes>"
      ]
     },
     "metadata": {},
     "output_type": "display_data"
    }
   ],
   "source": [
    "import numpy as np\n",
    "import gtsam\n",
    "import matplotlib\n",
    "import matplotlib.pyplot as plt\n",
    "\n",
    "from minslam.data_loader import TartanAirLoader, plot_trajectory\n",
    "from minslam.frontend import Frontend\n",
    "from minslam.params import Params\n",
    "from minslam.backend import Backend\n",
    "from minslam.camera import PinholeCamera\n",
    "\n",
    "fig = plt.figure()\n",
    "\n",
    "def run_frontend_once(frontend):\n",
    "    pose = dataset.read_current_ground_truth()\n",
    "    while not frontend.keyframe_selection(pose):\n",
    "        if not dataset.load_next_frame():\n",
    "            break\n",
    "        pose = dataset.read_current_ground_truth()\n",
    "    color, depth = dataset.read_current_rgbd()\n",
    "    frontend.add_keyframe(pose, color, depth, dataset.curr_index)\n",
    "    print(f'--- Added keyframe {frontend.frame_id} (seq id: {dataset.curr_index}) ---')\n",
    "    more_points_n = params['frontend']['feature']['number']\n",
    "    frontend.extract_features(more_points_n, append_mode=False)\n",
    "    print('extracting features:', len(frontend.curr_frame.keypoints), f'(expected {more_points_n})')\n",
    "    if frontend.frame_id > 0:\n",
    "        frontend.match_features()\n",
    "        print('matching features:', len(frontend.curr_frame.matches))\n",
    "        frontend.eliminate_outliers()\n",
    "    frontend.assign_global_id()\n",
    "    return frontend.curr_frame\n",
    "\n",
    "# load the dataset\n",
    "params = Params('./params/tartanair.yaml')\n",
    "frontend = Frontend(params)\n",
    "backend = Backend(params)\n",
    "dataset = TartanAirLoader('./data/P006/')\n",
    "start_index = 0\n",
    "dataset.set_curr_index(start_index)\n",
    "n_keyframes = 10\n",
    "\n",
    "# read the ground truth and odometry\n",
    "dataset.load_ground_truth()\n",
    "gt_poses = dataset.gt\n",
    "# odom_poses = dataset.add_noise(gt_poses, [1e-4, 3e-4], [1e-3, 1e-3], seed=100, start=start_index)\n",
    "dataset.set_odometry(gt_poses)"
   ]
  },
  {
   "cell_type": "code",
   "execution_count": null,
   "metadata": {},
   "outputs": [],
   "source": [
    "from matplotlib.animation import FuncAnimation\n",
    "\n",
    "fig, ax = plt.subplots()\n",
    "im = ax.imshow(np.zeros([480, 640, 3]))     # A tuple unpacking to unpack the only plot\n",
    "\n",
    "# run the whole pipeline once\n",
    "def run_once(frame_num):\n",
    "    pose = dataset.read_current_odometry()\n",
    "    while not frontend.keyframe_selection(pose):\n",
    "        if not dataset.load_next_frame():\n",
    "            break\n",
    "        pose = dataset.read_current_odometry()\n",
    "    color, depth = dataset.read_current_rgbd()\n",
    "    frontend.add_keyframe(pose, color, depth)\n",
    "    print(f'--- Added keyframe {frontend.frame_id} (seq id: {dataset.curr_index}) ---')\n",
    "    if frontend.frame_id > 0:\n",
    "        frontend.match_features()\n",
    "        frontend.eliminate_outliers()\n",
    "    more_points_n = params['frontend']['feature']['number']-len(frontend.curr_frame.points)\n",
    "    print('current point number:', len(frontend.curr_frame.points))\n",
    "    if more_points_n>0:\n",
    "        print('extracting more features:', more_points_n)\n",
    "        frontend.extract_features(more_points_n, append_mode=True)\n",
    "    frontend.assign_global_id()\n",
    "    img = frontend.plot_matches(with_global_id=True)\n",
    "    im.set_array(img)\n",
    "    return [im]\n",
    "\n",
    "# generate tracking animation\n",
    "anim = FuncAnimation(fig, run_once, frames=100)\n",
    "anim.save('recitation_tracking.mp4', writer='ffmpeg', fps=10)"
   ]
  }
 ],
 "metadata": {
  "kernelspec": {
   "display_name": "Python 3",
   "language": "python",
   "name": "python3"
  },
  "language_info": {
   "codemirror_mode": {
    "name": "ipython",
    "version": 3
   },
   "file_extension": ".py",
   "mimetype": "text/x-python",
   "name": "python",
   "nbconvert_exporter": "python",
   "pygments_lexer": "ipython3",
   "version": "3.8.10"
  },
  "orig_nbformat": 4
 },
 "nbformat": 4,
 "nbformat_minor": 2
}
